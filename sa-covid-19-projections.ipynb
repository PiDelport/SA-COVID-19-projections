{
 "cells": [
  {
   "cell_type": "markdown",
   "metadata": {},
   "source": [
    "# South Africa COVID-19 projections\n",
    "\n",
    "Inspired by \"[Covid-19 infection in Italy. Mathematical models and predictions](https://towardsdatascience.com/covid-19-infection-in-italy-mathematical-models-and-predictions-7784b4d7dd8d)\"\n",
    "by Gianluca Malato.\n",
    "\n",
    "This is a quick experiment to fit South Africa's COVID-19 case numbers to the\n",
    "[logistic function](https://en.wikipedia.org/wiki/Logistic_function), to make some projections."
   ]
  },
  {
   "cell_type": "markdown",
   "source": [
    "First, get the raw data, and extract the bits we're interested in:"
   ],
   "metadata": {
    "collapsed": false
   }
  },
  {
   "cell_type": "code",
   "execution_count": 1,
   "metadata": {
    "collapsed": true,
    "pycharm": {
     "is_executing": false,
     "name": "#%%\n"
    }
   },
   "outputs": [],
   "source": [
    "import pandas as pd\n",
    "\n",
    "\n",
    "# Latest data:\n",
    "# url = 'https://en.wikipedia.org/wiki/Template:2019%E2%80%9320_coronavirus_pandemic_data/South_Africa_medical_cases'\n",
    "# Last known good data (2020-04-06):\n",
    "url = 'https://en.wikipedia.org/w/index.php?title=Template:2019%E2%80%9320_coronavirus_pandemic_data/South_Africa_medical_cases&oldid=949500138'\n",
    "\n",
    "table_title = 'COVID-19 confirmed cases in South Africa by province'\n",
    "\n",
    "full_df: pd.DataFrame\n",
    "[full_df] = pd.read_html(url, match=table_title, flavor='lxml')"
   ]
  },
  {
   "cell_type": "code",
   "execution_count": 2,
   "outputs": [
    {
     "data": {
      "text/plain": "     2020 Confirmed\n     2020     Total\n29  04-02      1462\n30  04-03      1505\n31  04-04      1585\n32  04-05      1655\n33  04-06      1686",
      "text/html": "<div>\n<style scoped>\n    .dataframe tbody tr th:only-of-type {\n        vertical-align: middle;\n    }\n\n    .dataframe tbody tr th {\n        vertical-align: top;\n    }\n\n    .dataframe thead tr th {\n        text-align: left;\n    }\n</style>\n<table border=\"1\" class=\"dataframe\">\n  <thead>\n    <tr>\n      <th></th>\n      <th>2020</th>\n      <th>Confirmed</th>\n    </tr>\n    <tr>\n      <th></th>\n      <th>2020</th>\n      <th>Total</th>\n    </tr>\n  </thead>\n  <tbody>\n    <tr>\n      <th>29</th>\n      <td>04-02</td>\n      <td>1462</td>\n    </tr>\n    <tr>\n      <th>30</th>\n      <td>04-03</td>\n      <td>1505</td>\n    </tr>\n    <tr>\n      <th>31</th>\n      <td>04-04</td>\n      <td>1585</td>\n    </tr>\n    <tr>\n      <th>32</th>\n      <td>04-05</td>\n      <td>1655</td>\n    </tr>\n    <tr>\n      <th>33</th>\n      <td>04-06</td>\n      <td>1686</td>\n    </tr>\n  </tbody>\n</table>\n</div>"
     },
     "metadata": {},
     "output_type": "execute_result",
     "execution_count": 2
    }
   ],
   "source": [
    "# print(full_df.columns)\n",
    "\n",
    "df: pd.DataFrame\n",
    "df = full_df[[('2020', '2020'), ('Confirmed', 'Total')]]\n",
    "\n",
    "# Drop the last four (non-data) rows.\n",
    "df = df[:-3]\n",
    "# Manual clean-up…\n",
    "df[('Confirmed', 'Total')][11] = df[('Confirmed', 'Total')][11].replace('[b]', '')\n",
    "# Make sure it's all coerced to numeric.\n",
    "df[('Confirmed', 'Total')] = pd.to_numeric(df[('Confirmed', 'Total')])\n",
    "\n",
    "df.tail()"
   ],
   "metadata": {
    "collapsed": false,
    "pycharm": {
     "name": "#%%\n",
     "is_executing": false
    }
   }
  },
  {
   "cell_type": "markdown",
   "source": [
    "Define the logistic function, with some scaling parameters:"
   ],
   "metadata": {
    "collapsed": false
   }
  },
  {
   "cell_type": "code",
   "execution_count": 3,
   "metadata": {
    "pycharm": {
     "is_executing": false,
     "name": "#%%\n"
    }
   },
   "outputs": [],
   "source": [
    "from scipy.special import expit\n",
    "\n",
    "\n",
    "def logistic(t, rate, mid, limit):\n",
    "    \"\"\"\n",
    "    :param t: Time (days) \n",
    "    :param rate: Growth rate constant\n",
    "    :param mid: Inflection point\n",
    "    :param limit: Population limit\n",
    "    \"\"\"\n",
    "    return limit * expit(rate * (t - mid))"
   ]
  },
  {
   "cell_type": "markdown",
   "metadata": {},
   "source": [
    "Curve-fit the data:"
   ]
  },
  {
   "cell_type": "code",
   "execution_count": 4,
   "metadata": {
    "pycharm": {
     "is_executing": false,
     "name": "#%%\n"
    }
   },
   "outputs": [
    {
     "data": {
      "text/plain": "                   Rate           Midpoint      Limit\n10% 0.09886546515010619 113.57284213493908  5878000.0\n20%  0.0988558729168986 120.59407762519835 11756000.0\n40% 0.09885028784140944 127.61201486531652 23512000.0",
      "text/html": "<div>\n<style scoped>\n    .dataframe tbody tr th:only-of-type {\n        vertical-align: middle;\n    }\n\n    .dataframe tbody tr th {\n        vertical-align: top;\n    }\n\n    .dataframe thead th {\n        text-align: right;\n    }\n</style>\n<table border=\"1\" class=\"dataframe\">\n  <thead>\n    <tr style=\"text-align: right;\">\n      <th></th>\n      <th>Rate</th>\n      <th>Midpoint</th>\n      <th>Limit</th>\n    </tr>\n  </thead>\n  <tbody>\n    <tr>\n      <th>10%</th>\n      <td>0.09886546515010619</td>\n      <td>113.57284213493908</td>\n      <td>5878000.0</td>\n    </tr>\n    <tr>\n      <th>20%</th>\n      <td>0.0988558729168986</td>\n      <td>120.59407762519835</td>\n      <td>11756000.0</td>\n    </tr>\n    <tr>\n      <th>40%</th>\n      <td>0.09885028784140944</td>\n      <td>127.61201486531652</td>\n      <td>23512000.0</td>\n    </tr>\n  </tbody>\n</table>\n</div>"
     },
     "metadata": {},
     "output_type": "execute_result",
     "execution_count": 4
    }
   ],
   "source": [
    "import numpy as np\n",
    "from scipy.optimize import curve_fit\n",
    "\n",
    "\n",
    "# Helper function\n",
    "def estimates(xdata, ydata):\n",
    "    \"\"\"\n",
    "    Return a set of fitted parameters.\n",
    "    \"\"\"\n",
    "    initial_guesses = [0.25, 60, 10_000_000]\n",
    "    \n",
    "    # def best_fit():\n",
    "    #     popt, pcov = curve_fit(\n",
    "    #         logistic,\n",
    "    #         xdata=xdata,\n",
    "    #         ydata=ydata,\n",
    "    #         p0=initial_guesses,\n",
    "    #     )\n",
    "    #     errors = np.sqrt(pcov.diagonal())\n",
    "    #     return popt, errors\n",
    "\n",
    "    # Like best_fit, but fix the rate.\n",
    "    # def rate_fit(rate):\n",
    "    #     popt, pcov = curve_fit(\n",
    "    #         lambda t, mid, limit: logistic(t, rate, mid, limit),\n",
    "    #         xdata=xdata,\n",
    "    #         ydata=ydata,\n",
    "    #         p0=initial_guesses[1:],\n",
    "    #     )\n",
    "    #     return [rate] + list(popt)\n",
    "    \n",
    "    # Like best_fit, but fix the limit.\n",
    "    def limit_fit(limit):\n",
    "        popt, pcov = curve_fit(\n",
    "            lambda t, rate, mid: logistic(t, rate, mid, limit),\n",
    "            xdata=xdata,\n",
    "            ydata=ydata,\n",
    "            p0=initial_guesses[:2],\n",
    "            # maxfev=10000,\n",
    "        )\n",
    "        return list(popt) + [limit]\n",
    "\n",
    "    # Best-fit parameters\n",
    "    # p_mid, errors = best_fit()\n",
    "    \n",
    "    # Low and high parameters, using the rate's variance\n",
    "    # rate = p_mid[0]\n",
    "    # rate_error = errors[0]\n",
    "    # p_min = rate_fit(rate + rate_error)\n",
    "    # p_max = rate_fit(rate - rate_error)\n",
    "    \n",
    "    # Parameters based on the projected infection percentages of SA's population.\n",
    "    sa_population = 58_780_000  # https://en.wikipedia.org/wiki/Demographics_of_South_Africa\n",
    "    p_10pct = limit_fit(sa_population * 0.10)\n",
    "    p_20pct = limit_fit(sa_population * 0.20)\n",
    "    p_40pct = limit_fit(sa_population * 0.40)\n",
    "    \n",
    "    # return p_min, p_mid, p_max, p_10pct, p_20pct, p_40pct\n",
    "    return p_10pct, p_20pct, p_40pct\n",
    "\n",
    "\n",
    "# XXX: For now, just assume the data has no gaps, and days equal indexes.\n",
    "data_days = range(len(df))\n",
    "data_cases = df[('Confirmed', 'Total')]\n",
    "\n",
    "p_10pct, p_20pct, p_40pct = estimates(data_days, data_cases)\n",
    "\n",
    "# Show the parameters with Python's float formatting\n",
    "pd.options.display.float_format = str\n",
    "\n",
    "pd.DataFrame(\n",
    "    data=[p_10pct, p_20pct, p_40pct],\n",
    "    index=['10%', '20%', '40%'],\n",
    "    columns=['Rate', 'Midpoint', 'Limit'],\n",
    ")    "
   ]
  },
  {
   "cell_type": "markdown",
   "metadata": {},
   "source": [
    "Plot some data!\n",
    "\n",
    "This is also plotted [here](https://docs.google.com/spreadsheets/d/1zJC06iokpJ65-ZdJCgqCAIgpYpUTwOlpcxI_27wTtn8/edit#gid=384217832)."
   ]
  },
  {
   "cell_type": "code",
   "execution_count": 5,
   "metadata": {
    "pycharm": {
     "is_executing": false,
     "name": "#%%\n"
    }
   },
   "outputs": [],
   "source": [
    "import matplotlib.pyplot as plt\n",
    "\n",
    "\n",
    "# plt.plot(logistic(range(int(np.ceil(p_min[1] * 2))), *p_min), 'g:', label='Low')\n",
    "# plt.plot(logistic(range(int(np.ceil(p_mid[1] * 2))), *p_mid), 'b--', label='Best-fit')\n",
    "# plt.plot(logistic(range(int(np.ceil(p_max[1] * 2))), *p_max), 'r:', label='High')\n",
    "# \n",
    "# plt.plot(data_cases, 'k.-', label='Confirmed')\n",
    "# \n",
    "# plt.title('Projection based on confirmed cases')\n",
    "# plt.xlabel('Days')\n",
    "# plt.ylabel('Cases')\n",
    "# plt.legend()\n",
    "# plt.show()"
   ]
  },
  {
   "cell_type": "code",
   "execution_count": 6,
   "outputs": [
    {
     "data": {
      "text/plain": "<Figure size 432x288 with 1 Axes>",
      "image/png": "[encoded data removed]"
     },
     "metadata": {
      "needs_background": "light"
     },
     "output_type": "display_data"
    }
   ],
   "source": [
    "plt.plot(logistic(range(int(np.ceil(p_10pct[1] * 2))), *p_10pct), 'g:', label='10% infected')\n",
    "plt.plot(logistic(range(int(np.ceil(p_20pct[1] * 2))), *p_20pct), 'b--', label='20% infected')\n",
    "plt.plot(logistic(range(int(np.ceil(p_40pct[1] * 2))), *p_40pct), 'r:', label='40% infected')\n",
    "plt.plot(data_days, data_cases, 'k-', label='Confirmed')\n",
    "\n",
    "plt.title('Projection based on % of SA infected')\n",
    "plt.xlabel('Days')\n",
    "plt.ylabel('Cases')\n",
    "plt.legend()\n",
    "plt.show()"
   ],
   "metadata": {
    "collapsed": false,
    "pycharm": {
     "name": "#%%\n",
     "is_executing": false
    }
   }
  }
 ],
 "metadata": {
  "kernelspec": {
   "display_name": "Python 3",
   "language": "python",
   "name": "python3"
  },
  "language_info": {
   "codemirror_mode": {
    "name": "ipython",
    "version": 3
   },
   "file_extension": ".py",
   "mimetype": "text/x-python",
   "name": "python",
   "nbconvert_exporter": "python",
   "pygments_lexer": "ipython3",
   "version": "3.7.5"
  },
  "pycharm": {
   "stem_cell": {
    "cell_type": "raw",
    "source": [],
    "metadata": {
     "collapsed": false
    }
   }
  }
 },
 "nbformat": 4,
 "nbformat_minor": 1
}
